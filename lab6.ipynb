{
 "cells": [
  {
   "cell_type": "code",
   "execution_count": 99,
   "metadata": {
    "collapsed": false
   },
   "outputs": [
    {
     "ename": "TypeError",
     "evalue": "unsupported operand type(s) for -: 'tuple' and 'float'",
     "output_type": "error",
     "traceback": [
      "\u001b[1;31m---------------------------------------------------------------------------\u001b[0m",
      "\u001b[1;31mTypeError\u001b[0m                                 Traceback (most recent call last)",
      "\u001b[1;32m<ipython-input-99-383c09d2c401>\u001b[0m in \u001b[0;36m<module>\u001b[1;34m()\u001b[0m\n\u001b[0;32m    115\u001b[0m \u001b[1;33m\u001b[0m\u001b[0m\n\u001b[0;32m    116\u001b[0m \u001b[0mI\u001b[0m\u001b[1;33m,\u001b[0m \u001b[0mPSI\u001b[0m \u001b[1;33m=\u001b[0m \u001b[1;33m[\u001b[0m\u001b[1;33m]\u001b[0m\u001b[1;33m,\u001b[0m \u001b[1;33m[\u001b[0m\u001b[1;33m]\u001b[0m\u001b[1;33m\u001b[0m\u001b[0m\n\u001b[1;32m--> 117\u001b[1;33m \u001b[0mTMP\u001b[0m \u001b[1;33m=\u001b[0m \u001b[0malgorytm\u001b[0m\u001b[1;33m(\u001b[0m\u001b[0mEwlasne\u001b[0m\u001b[1;33m)\u001b[0m\u001b[1;33m\u001b[0m\u001b[0m\n\u001b[0m\u001b[0;32m    118\u001b[0m \u001b[1;32mfor\u001b[0m \u001b[0mj\u001b[0m \u001b[1;32min\u001b[0m \u001b[0mrange\u001b[0m\u001b[1;33m(\u001b[0m\u001b[1;36m0\u001b[0m\u001b[1;33m,\u001b[0m \u001b[0mTMP\u001b[0m\u001b[1;33m)\u001b[0m\u001b[1;33m:\u001b[0m\u001b[1;33m\u001b[0m\u001b[0m\n\u001b[0;32m    119\u001b[0m     \u001b[0mnumerow\u001b[0m\u001b[1;33m(\u001b[0m\u001b[0mEwlasne\u001b[0m\u001b[1;33m[\u001b[0m\u001b[0mj\u001b[0m\u001b[1;33m]\u001b[0m\u001b[1;33m)\u001b[0m\u001b[1;33m\u001b[0m\u001b[0m\n",
      "\u001b[1;32m<ipython-input-99-383c09d2c401>\u001b[0m in \u001b[0;36malgorytm\u001b[1;34m(Ewlasne)\u001b[0m\n\u001b[0;32m     88\u001b[0m     \u001b[1;32mfor\u001b[0m \u001b[0menergia\u001b[0m \u001b[1;32min\u001b[0m \u001b[0menumerate\u001b[0m\u001b[1;33m(\u001b[0m\u001b[0menergy_range\u001b[0m\u001b[1;33m)\u001b[0m\u001b[1;33m:\u001b[0m\u001b[1;33m\u001b[0m\u001b[0m\n\u001b[0;32m     89\u001b[0m         \u001b[0mcheck\u001b[0m \u001b[1;33m+=\u001b[0m\u001b[1;36m1\u001b[0m\u001b[1;33m\u001b[0m\u001b[0m\n\u001b[1;32m---> 90\u001b[1;33m         \u001b[0mbrak\u001b[0m \u001b[1;33m=\u001b[0m \u001b[0mnumerow\u001b[0m\u001b[1;33m(\u001b[0m\u001b[0menergia\u001b[0m\u001b[1;33m)\u001b[0m\u001b[1;33m\u001b[0m\u001b[0m\n\u001b[0m\u001b[0;32m     91\u001b[0m         \u001b[0mn_steps_tmp\u001b[0m \u001b[1;33m=\u001b[0m \u001b[1;33m(\u001b[0m\u001b[0menergia\u001b[0m\u001b[1;33m-\u001b[0m\u001b[1;33m(\u001b[0m\u001b[0menergia\u001b[0m\u001b[1;33m-\u001b[0m\u001b[0mdelta\u001b[0m\u001b[1;33m)\u001b[0m\u001b[1;33m)\u001b[0m\u001b[1;33m/\u001b[0m\u001b[1;36m0.000001\u001b[0m\u001b[1;33m\u001b[0m\u001b[0m\n\u001b[0;32m     92\u001b[0m         \u001b[0mtmp_range\u001b[0m \u001b[1;33m=\u001b[0m \u001b[0mnp\u001b[0m\u001b[1;33m.\u001b[0m\u001b[0mlinspace\u001b[0m\u001b[1;33m(\u001b[0m\u001b[0menergia\u001b[0m\u001b[1;33m-\u001b[0m\u001b[0mdelta\u001b[0m\u001b[1;33m,\u001b[0m \u001b[0menergia\u001b[0m\u001b[1;33m,\u001b[0m \u001b[0mn_steps_tmp\u001b[0m\u001b[1;33m)\u001b[0m\u001b[1;33m\u001b[0m\u001b[0m\n",
      "\u001b[1;32m<ipython-input-99-383c09d2c401>\u001b[0m in \u001b[0;36mnumerow\u001b[1;34m(energia)\u001b[0m\n\u001b[0;32m     63\u001b[0m     \u001b[1;32mglobal\u001b[0m \u001b[0mL\u001b[0m\u001b[1;33m\u001b[0m\u001b[0m\n\u001b[0;32m     64\u001b[0m     \u001b[1;32mfor\u001b[0m \u001b[0mi\u001b[0m \u001b[1;32min\u001b[0m \u001b[0mrange\u001b[0m\u001b[1;33m(\u001b[0m\u001b[1;36m2\u001b[0m\u001b[1;33m,\u001b[0m \u001b[0mzpacz\u001b[0m\u001b[1;33m+\u001b[0m\u001b[1;36m1\u001b[0m\u001b[1;33m)\u001b[0m\u001b[1;33m:\u001b[0m\u001b[1;33m\u001b[0m\u001b[0m\n\u001b[1;32m---> 65\u001b[1;33m         \u001b[0mpsi\u001b[0m\u001b[1;33m[\u001b[0m\u001b[0mi\u001b[0m\u001b[1;33m]\u001b[0m \u001b[1;33m=\u001b[0m \u001b[1;33m(\u001b[0m\u001b[0mnumerow1\u001b[0m\u001b[1;33m(\u001b[0m\u001b[1;33m(\u001b[0m\u001b[0mi\u001b[0m\u001b[1;33m-\u001b[0m\u001b[1;36m1\u001b[0m\u001b[1;33m)\u001b[0m\u001b[1;33m,\u001b[0m \u001b[0menergia\u001b[0m\u001b[1;33m)\u001b[0m\u001b[1;33m*\u001b[0m\u001b[0mpsi\u001b[0m\u001b[1;33m[\u001b[0m\u001b[0mi\u001b[0m\u001b[1;33m-\u001b[0m\u001b[1;36m1\u001b[0m\u001b[1;33m]\u001b[0m\u001b[1;33m-\u001b[0m\u001b[0mnumerow2\u001b[0m\u001b[1;33m(\u001b[0m\u001b[1;33m(\u001b[0m\u001b[0mi\u001b[0m\u001b[1;33m-\u001b[0m\u001b[1;36m2\u001b[0m\u001b[1;33m)\u001b[0m\u001b[1;33m,\u001b[0m \u001b[0menergia\u001b[0m\u001b[1;33m)\u001b[0m\u001b[1;33m*\u001b[0m\u001b[0mpsi\u001b[0m\u001b[1;33m[\u001b[0m\u001b[0mi\u001b[0m\u001b[1;33m-\u001b[0m\u001b[1;36m2\u001b[0m\u001b[1;33m]\u001b[0m\u001b[1;33m)\u001b[0m\u001b[1;33m/\u001b[0m\u001b[0mnumerow2\u001b[0m\u001b[1;33m(\u001b[0m\u001b[0mi\u001b[0m\u001b[1;33m,\u001b[0m\u001b[0menergia\u001b[0m\u001b[1;33m)\u001b[0m\u001b[1;33m\u001b[0m\u001b[0m\n\u001b[0m\u001b[0;32m     66\u001b[0m         \u001b[1;32mif\u001b[0m \u001b[0mi\u001b[0m \u001b[1;33m==\u001b[0m \u001b[0mzpacz\u001b[0m\u001b[1;33m:\u001b[0m\u001b[1;33m\u001b[0m\u001b[0m\n\u001b[0;32m     67\u001b[0m             \u001b[0mP\u001b[0m \u001b[1;33m=\u001b[0m \u001b[0mpsi\u001b[0m\u001b[1;33m[\u001b[0m\u001b[0mi\u001b[0m\u001b[1;33m]\u001b[0m\u001b[1;33m\u001b[0m\u001b[0m\n",
      "\u001b[1;32m<ipython-input-99-383c09d2c401>\u001b[0m in \u001b[0;36mnumerow1\u001b[1;34m(i, energia)\u001b[0m\n\u001b[0;32m     55\u001b[0m \u001b[1;33m\u001b[0m\u001b[0m\n\u001b[0;32m     56\u001b[0m \u001b[1;32mdef\u001b[0m \u001b[0mnumerow1\u001b[0m\u001b[1;33m(\u001b[0m\u001b[0mi\u001b[0m\u001b[1;33m,\u001b[0m \u001b[0menergia\u001b[0m\u001b[1;33m)\u001b[0m\u001b[1;33m:\u001b[0m\u001b[1;33m\u001b[0m\u001b[0m\n\u001b[1;32m---> 57\u001b[1;33m     \u001b[1;32mreturn\u001b[0m \u001b[1;33m(\u001b[0m\u001b[1;36m2\u001b[0m\u001b[1;33m*\u001b[0m\u001b[1;33m(\u001b[0m\u001b[1;36m1\u001b[0m\u001b[1;33m-\u001b[0m\u001b[1;33m(\u001b[0m\u001b[1;36m5\u001b[0m\u001b[1;33m/\u001b[0m\u001b[1;36m12\u001b[0m\u001b[1;33m)\u001b[0m\u001b[1;33m)\u001b[0m\u001b[1;33m*\u001b[0m\u001b[0mh\u001b[0m\u001b[1;33m*\u001b[0m\u001b[0mh\u001b[0m\u001b[1;33m*\u001b[0m\u001b[0mk_2\u001b[0m\u001b[1;33m(\u001b[0m\u001b[0mi\u001b[0m\u001b[1;33m*\u001b[0m\u001b[0mh\u001b[0m\u001b[1;33m,\u001b[0m \u001b[0menergia\u001b[0m\u001b[1;33m)\u001b[0m\u001b[1;33m)\u001b[0m\u001b[1;33m\u001b[0m\u001b[0m\n\u001b[0m\u001b[0;32m     58\u001b[0m \u001b[1;33m\u001b[0m\u001b[0m\n\u001b[0;32m     59\u001b[0m \u001b[1;32mdef\u001b[0m \u001b[0mnumerow2\u001b[0m\u001b[1;33m(\u001b[0m\u001b[0mi\u001b[0m\u001b[1;33m,\u001b[0m \u001b[0menergia\u001b[0m\u001b[1;33m)\u001b[0m\u001b[1;33m:\u001b[0m\u001b[1;33m\u001b[0m\u001b[0m\n",
      "\u001b[1;32m<ipython-input-99-383c09d2c401>\u001b[0m in \u001b[0;36mk_2\u001b[1;34m(z, energia)\u001b[0m\n\u001b[0;32m     52\u001b[0m \u001b[1;33m\u001b[0m\u001b[0m\n\u001b[0;32m     53\u001b[0m \u001b[1;32mdef\u001b[0m \u001b[0mk_2\u001b[0m\u001b[1;33m(\u001b[0m\u001b[0mz\u001b[0m\u001b[1;33m,\u001b[0m \u001b[0menergia\u001b[0m\u001b[1;33m)\u001b[0m\u001b[1;33m:\u001b[0m\u001b[1;33m\u001b[0m\u001b[0m\n\u001b[1;32m---> 54\u001b[1;33m     \u001b[1;32mreturn\u001b[0m \u001b[1;36m2\u001b[0m\u001b[1;33m*\u001b[0m\u001b[0mmc2\u001b[0m\u001b[1;33m*\u001b[0m\u001b[0mm_eff\u001b[0m\u001b[1;33m/\u001b[0m\u001b[0mhc\u001b[0m\u001b[1;33m/\u001b[0m\u001b[0mhc\u001b[0m\u001b[1;33m*\u001b[0m\u001b[1;36m10\u001b[0m\u001b[1;33m*\u001b[0m\u001b[1;33m(\u001b[0m\u001b[0menergia\u001b[0m\u001b[1;33m-\u001b[0m\u001b[0mpole\u001b[0m\u001b[1;33m(\u001b[0m\u001b[0mz\u001b[0m\u001b[1;33m)\u001b[0m\u001b[1;33m)\u001b[0m\u001b[1;33m\u001b[0m\u001b[0m\n\u001b[0m\u001b[0;32m     55\u001b[0m \u001b[1;33m\u001b[0m\u001b[0m\n\u001b[0;32m     56\u001b[0m \u001b[1;32mdef\u001b[0m \u001b[0mnumerow1\u001b[0m\u001b[1;33m(\u001b[0m\u001b[0mi\u001b[0m\u001b[1;33m,\u001b[0m \u001b[0menergia\u001b[0m\u001b[1;33m)\u001b[0m\u001b[1;33m:\u001b[0m\u001b[1;33m\u001b[0m\u001b[0m\n",
      "\u001b[1;31mTypeError\u001b[0m: unsupported operand type(s) for -: 'tuple' and 'float'"
     ]
    }
   ],
   "source": [
    "import numpy as np\n",
    "from scipy import special\n",
    "import matplotlib.pyplot as plt\n",
    "from scipy import integrate\n",
    "from scipy import linalg as LA\n",
    "import matplotlib\n",
    "import math\n",
    "\n",
    "wlacznik = 1\n",
    "\n",
    "N = 1000\n",
    "zmax = 250\n",
    "hc = 197.326968\n",
    "mc2 = 0.51099\n",
    "ef = 0.1\n",
    "m_eff = 0.92\n",
    "z0 = 125\n",
    "za = 75\n",
    "zb = 175\n",
    "zpacz = 750\n",
    "V0 = -200\n",
    "\n",
    "h = zmax/N\n",
    "psi = np.zeros(N+1)\n",
    "psi[N] = 0\n",
    "psi[N-1]= 0.00001\n",
    "psi[0] = 0\n",
    "psi[1] = 0.00001\n",
    "P = 0\n",
    "L = 0\n",
    "ilosc_wartosci = 0\n",
    "licznik = 0\n",
    "delta = 0.01\n",
    "check = 0\n",
    "Ewlasne = np.empty(100)\n",
    "\n",
    "def pole(z):\n",
    "    if wlacznik == 0:\n",
    "        if(z<za):\n",
    "            return 0\n",
    "        elif z>=za and z<= zb:\n",
    "            return V0\n",
    "        elif z>zb:\n",
    "            return 0\n",
    "    if wlacznik == 1:\n",
    "        if z<za:\n",
    "            return -ef*(z-z0)\n",
    "        elif z>=za and z<=zb:\n",
    "            return V0-ef*(z-z0)\n",
    "        elif z>zb:\n",
    "            return -ef*(z-z0)\n",
    "\n",
    "def k_2(z, energia):\n",
    "    return 2*mc2*m_eff/hc/hc*10*(energia-pole(z))\n",
    "\n",
    "def numerow1(i, energia):\n",
    "    return (2*(1-(5/12))*h*h*k_2(i*h, energia))\n",
    "\n",
    "def numerow2(i, energia):\n",
    "    return ((1+(1/12))*h*h*k_2(i*h, energia))\n",
    "\n",
    "def numerow(energia):\n",
    "    global L\n",
    "    for i in range(2, zpacz+1):\n",
    "        psi[i] = (numerow1((i-1), energia)*psi[i-1]-numerow2((i-2), energia)*psi[i-2])/numerow2(i,energia)\n",
    "        if i == zpacz:\n",
    "            P = psi[i]    \n",
    "    for i in range(N-2, zpacz+1, -1):\n",
    "        psi[i] = (numerow1(i+1, energia)*psi[i+1]-numerow2(i+2, energia)*psi[i+2])/numerow2(i,energia)\n",
    "        if i == zpacz:\n",
    "            L = psi[i]            \n",
    "    return P-L\n",
    "\n",
    "def Emax():\n",
    "    if wlacznik == 0:\n",
    "        return 0\n",
    "    else:\n",
    "        return ef*(zb-z0)\n",
    "\n",
    "n_steps = (Emax()+1 -(V0))/delta\n",
    "energy_range = np.linspace(V0, Emax()+1, n_steps)\n",
    "\n",
    "def algorytm(Ewlasne):\n",
    "    global ilosc_wartosci\n",
    "    global licznik\n",
    "    global check\n",
    "    \n",
    "    for energia in enumerate(energy_range):\n",
    "        check +=1\n",
    "        brak = numerow(energia)\n",
    "        n_steps_tmp = (energia-(energia-delta))/0.000001\n",
    "        tmp_range = np.linspace(energia-delta, energia, n_steps_tmp)\n",
    "        \n",
    "        if energia != V0:\n",
    "            if brak*sprawdz1 < 0:\n",
    "                for tmp in enumerate(tmp_range):\n",
    "                    sprawdz2 = numerow(tmp)\n",
    "                    if tmp_range[tmp]!=(energia-delta):\n",
    "                        if sprawdz2*sprawdz3 <0:\n",
    "                            licznik +=1\n",
    "                            if licznik ==1:\n",
    "                                if wlacznik ==0:\n",
    "                                    print(\"bez pola E\")\n",
    "                                else:\n",
    "                                    print(\"pole E = \")\n",
    "                                    print(tmp_range[tmp])\n",
    "                            sprawdz3 = sprawdz2\n",
    "                Ewlasne[ilosc_wartosci] = tmp_range[tmp]\n",
    "                ilosc_wartosci+=1\n",
    "            \n",
    "            \n",
    "            sprawdz1 = brak\n",
    "        print(check)\n",
    "        return ilosc_wartosci\n",
    "    \n",
    "I, PSI = [], []\n",
    "TMP = algorytm(Ewlasne)\n",
    "for j in range(0, TMP):\n",
    "    numerow(Ewlasne[j])\n",
    "    for i in range(0, N+1):\n",
    "        I.append(i*h)\n",
    "        PSI.append(psi[i])\n",
    "    \n",
    "        \n",
    "        \n",
    "        \n",
    "        \n",
    "        "
   ]
  },
  {
   "cell_type": "code",
   "execution_count": 97,
   "metadata": {
    "collapsed": false
   },
   "outputs": [
    {
     "data": {
      "text/plain": [
       "numpy.float64"
      ]
     },
     "execution_count": 97,
     "metadata": {},
     "output_type": "execute_result"
    }
   ],
   "source": [
    "type(psi[1])"
   ]
  },
  {
   "cell_type": "code",
   "execution_count": null,
   "metadata": {
    "collapsed": true
   },
   "outputs": [],
   "source": []
  }
 ],
 "metadata": {
  "kernelspec": {
   "display_name": "Python 3",
   "language": "python",
   "name": "python3"
  },
  "language_info": {
   "codemirror_mode": {
    "name": "ipython",
    "version": 3
   },
   "file_extension": ".py",
   "mimetype": "text/x-python",
   "name": "python",
   "nbconvert_exporter": "python",
   "pygments_lexer": "ipython3",
   "version": "3.5.1"
  }
 },
 "nbformat": 4,
 "nbformat_minor": 0
}
